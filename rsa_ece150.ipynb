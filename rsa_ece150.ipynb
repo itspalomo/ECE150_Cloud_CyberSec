{
 "cells": [
  {
   "cell_type": "code",
   "execution_count": 6,
   "metadata": {},
   "outputs": [],
   "source": [
    "import math\n",
    "import sys\n",
    "import os"
   ]
  },
  {
   "cell_type": "markdown",
   "metadata": {},
   "source": [
    "## RSA PROCESS EXAMPLE (pg 101)\n",
    "### Generate Key\n",
    "1. Select two prime numbers, p=17 and q=11\n",
    "2. Calculat n = pq = 17x11 = 187\n",
    "3. Calculate Phi(n) = (p-1)(q-1) = 16 x 10 = 160\n",
    "4. Select _e_ such that _e_ is relatively prime to Phi(n) = 160 and less than Phi(n); we choose _e_ = 7\n",
    "5. Determine _d_ such thte _de_ mod 160 = 1 and _d_ < 160. The correct value is _d_ = 23, because 23x7 = 161 = (1x160)+1\n",
    "### Encryption \n",
    "1. C = M^e (mod n)\n",
    "\n",
    "### Decryption\n",
    "1. M = C^d (mod n)"
   ]
  },
  {
   "cell_type": "code",
   "execution_count": 39,
   "metadata": {},
   "outputs": [],
   "source": [
    "def isPrime(n):\n",
    "    if n <= 1:\n",
    "        print(\"Entry must be prime integer.\")\n",
    "        return False\n",
    "    for i in range(2, int(math.sqrt(n)) + 1):\n",
    "        if n % i == 0:\n",
    "            return False\n",
    "    return True\n"
   ]
  },
  {
   "cell_type": "code",
   "execution_count": 45,
   "metadata": {},
   "outputs": [],
   "source": [
    "def keyGen(p,q):\n",
    "    n = p * q\n",
    "    phi_n = (p-1)*(q-1)\n",
    "    e = 2 # 1 < e < phi_n\n",
    "    while (e < phi_n):\n",
    "        if (math.gcd(e, phi_n) == 1):\n",
    "            break\n",
    "        else:\n",
    "            e = e +1\n",
    "    d = e + 1\n",
    "    while ( d < phi_n):\n",
    "        if (((d * e) % phi_n) == 1): # multiplicative inverse\n",
    "            break\n",
    "        else:\n",
    "            d = d+1\n",
    "    \n",
    "    ku = {e, n} # public key\n",
    "    kr = {d, n} # private key\n",
    "\n",
    "    return ku, kr\n",
    "    "
   ]
  },
  {
   "cell_type": "code",
   "execution_count": 42,
   "metadata": {},
   "outputs": [],
   "source": [
    "def Encrypt(ku, plaintext):\n",
    "    return (math.fmod(math.pow(plaintext, e), n))"
   ]
  },
  {
   "cell_type": "code",
   "execution_count": 41,
   "metadata": {},
   "outputs": [],
   "source": [
    "def Decrypt(kr , ciphertext):\n",
    "    return (math.fmod(math.pow(ciphertext, d), n))"
   ]
  },
  {
   "cell_type": "code",
   "execution_count": 46,
   "metadata": {},
   "outputs": [
    {
     "name": "stdout",
     "output_type": "stream",
     "text": [
      "Public key \n",
      " {3, 187} \n",
      " Private key \n",
      " {107, 187}\n"
     ]
    },
    {
     "ename": "TypeError",
     "evalue": "Encrypt() missing 1 required positional argument: 'plaintext'",
     "output_type": "error",
     "traceback": [
      "\u001b[1;31m---------------------------------------------------------------------------\u001b[0m",
      "\u001b[1;31mTypeError\u001b[0m                                 Traceback (most recent call last)",
      "Cell \u001b[1;32mIn [46], line 17\u001b[0m\n\u001b[0;32m     13\u001b[0m \u001b[38;5;28mprint\u001b[39m(\u001b[38;5;124mf\u001b[39m\u001b[38;5;124m'\u001b[39m\u001b[38;5;124mPublic key \u001b[39m\u001b[38;5;130;01m\\n\u001b[39;00m\u001b[38;5;124m \u001b[39m\u001b[38;5;132;01m{\u001b[39;00mpublic\u001b[38;5;132;01m}\u001b[39;00m\u001b[38;5;124m \u001b[39m\u001b[38;5;130;01m\\n\u001b[39;00m\u001b[38;5;124m Private key \u001b[39m\u001b[38;5;130;01m\\n\u001b[39;00m\u001b[38;5;124m \u001b[39m\u001b[38;5;132;01m{\u001b[39;00mprivate\u001b[38;5;132;01m}\u001b[39;00m\u001b[38;5;124m'\u001b[39m)\n\u001b[0;32m     15\u001b[0m plaintext \u001b[38;5;241m=\u001b[39m \u001b[38;5;28mint\u001b[39m(\u001b[38;5;28minput\u001b[39m(\u001b[38;5;124m\"\u001b[39m\u001b[38;5;124mEnter a message to encrypt: \u001b[39m\u001b[38;5;124m\"\u001b[39m))\n\u001b[1;32m---> 17\u001b[0m ciphertext \u001b[38;5;241m=\u001b[39m \u001b[43mEncrypt\u001b[49m\u001b[43m(\u001b[49m\u001b[43mpublic\u001b[49m\u001b[43m,\u001b[49m\u001b[43m \u001b[49m\u001b[43mplaintext\u001b[49m\u001b[43m)\u001b[49m\n\u001b[0;32m     19\u001b[0m \u001b[38;5;28mprint\u001b[39m(\u001b[38;5;124mf\u001b[39m\u001b[38;5;124m'\u001b[39m\u001b[38;5;124mDecrypting cipher text \u001b[39m\u001b[38;5;132;01m{\u001b[39;00mciphertext\u001b[38;5;132;01m}\u001b[39;00m\u001b[38;5;124m'\u001b[39m)\n\u001b[0;32m     20\u001b[0m Decrypt(private, ciphertext)\n",
      "\u001b[1;31mTypeError\u001b[0m: Encrypt() missing 1 required positional argument: 'plaintext'"
     ]
    }
   ],
   "source": [
    "q = int(input(\"Enter prime value for q: \"))\n",
    "\n",
    "while (isPrime(q) is not True):\n",
    "        q = int(input(\"Enter prime value for q: \"))\n",
    "\n",
    "p = int(input(\"Enter prime value for q: \"))\n",
    "\n",
    "while (isPrime(p) is not True):\n",
    "        p = int(input(\"Enter prime value for q: \"))\n",
    "\n",
    "public, private = keyGen(p, q)\n",
    "\n",
    "print(f'Public key \\n {public} \\n Private key \\n {private}')\n",
    "\n",
    "plaintext = int(input(\"Enter a message to encrypt: \"))\n",
    "\n",
    "ciphertext = Encrypt(public, plaintext)\n",
    "\n",
    "print(f'Decrypting cipher text {ciphertext}')\n",
    "Decrypt(private, ciphertext)"
   ]
  },
  {
   "cell_type": "code",
   "execution_count": null,
   "metadata": {},
   "outputs": [],
   "source": []
  }
 ],
 "metadata": {
  "interpreter": {
   "hash": "e63dfaab4a40dfe093621eb4ca0c9f2c8062045487f016b9014ab4cb3cb059c2"
  },
  "kernelspec": {
   "display_name": "Python 3.9.13 64-bit (windows store)",
   "language": "python",
   "name": "python3"
  },
  "language_info": {
   "codemirror_mode": {
    "name": "ipython",
    "version": 3
   },
   "file_extension": ".py",
   "mimetype": "text/x-python",
   "name": "python",
   "nbconvert_exporter": "python",
   "pygments_lexer": "ipython3",
   "version": "3.9.13"
  },
  "orig_nbformat": 4
 },
 "nbformat": 4,
 "nbformat_minor": 2
}
