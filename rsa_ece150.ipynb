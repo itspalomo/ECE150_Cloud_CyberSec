{
 "cells": [
  {
   "cell_type": "code",
   "execution_count": 105,
   "metadata": {},
   "outputs": [],
   "source": [
    "import math\n",
    "import numpy as np\n",
    "import sys\n",
    "import os"
   ]
  },
  {
   "cell_type": "markdown",
   "metadata": {},
   "source": [
    "## RSA PROCESS EXAMPLE (pg 101)\n",
    "### Generate Key\n",
    "1. Select two prime numbers, p=17 and q=11\n",
    "2. Calculat n = pq = 17x11 = 187\n",
    "3. Calculate Phi(n) = (p-1)(q-1) = 16 x 10 = 160\n",
    "4. Select _e_ such that _e_ is relatively prime to Phi(n) = 160 and less than Phi(n); we choose _e_ = 7\n",
    "5. Determine _d_ such thte _de_ mod 160 = 1 and _d_ < 160. The correct value is _d_ = 23, because 23x7 = 161 = (1x160)+1\n",
    "### Encryption \n",
    "1. C = M^e (mod n)\n",
    "\n",
    "### Decryption\n",
    "1. M = C^d (mod n)"
   ]
  },
  {
   "cell_type": "code",
   "execution_count": 71,
   "metadata": {},
   "outputs": [],
   "source": [
    "def isPrime(n):\n",
    "    if n <= 1:\n",
    "        print(\"Entry must be prime integer.\")\n",
    "        return False\n",
    "    for i in range(2, int(math.sqrt(n)) + 1):\n",
    "        if n % i == 0:\n",
    "            return False\n",
    "    return True\n"
   ]
  },
  {
   "cell_type": "code",
   "execution_count": 109,
   "metadata": {},
   "outputs": [],
   "source": [
    "def keyGen(p,q):\n",
    "    n = p * q\n",
    "    print(n)\n",
    "    phi_n = (p-1)*(q-1)\n",
    "    print(f'Phi is {phi_n}')\n",
    "    e = 4 # 1 < e < phi_n\n",
    "    while (e < phi_n):\n",
    "        if (math.gcd(phi_n, e) == 1):\n",
    "            break\n",
    "        else:\n",
    "            e = e +1\n",
    "    print(f'e is {e}')\n",
    "    \n",
    "    #2 is a placeholder for k which can be any value replaces commented out code\n",
    "    d = 2\n",
    "    while ( d < phi_n):\n",
    "        if ((math.fmod((d * e), phi_n)) == 1): # multiplicative inverse\n",
    "            break\n",
    "        else:\n",
    "            d = d+1\n",
    "    \n",
    "    #d = ((2*phi_n) + 1)/e # https://www.youtube.com/watch?v=wXB-V_Keiu8&ab_channel=ArtoftheProblem\n",
    "\n",
    "\n",
    "\n",
    "    print(f'd is {d}')\n",
    "    ku = {e, n} # public key\n",
    "    kr = {d, n} # private key\n",
    "\n",
    "    return ku, kr\n",
    "    "
   ]
  },
  {
   "cell_type": "code",
   "execution_count": 120,
   "metadata": {},
   "outputs": [],
   "source": [
    "def Encrypt(ku, m):\n",
    "    n,e = ku\n",
    "    print(f'e = {e}, n = {n}')\n",
    "    c = np.power(m, e)\n",
    "    print(f'pow is {c}')\n",
    "    return int(math.fmod(c, n))"
   ]
  },
  {
   "cell_type": "code",
   "execution_count": 118,
   "metadata": {},
   "outputs": [],
   "source": [
    "def Decrypt(kr , c):\n",
    "    n,d = kr\n",
    "    print(f'd = {d}, n = {n}')\n",
    "    m = np.power(c,d)\n",
    "    print(f'pow is {m}')\n",
    "    return int(math.fmod(m, n))"
   ]
  },
  {
   "cell_type": "code",
   "execution_count": 119,
   "metadata": {},
   "outputs": [
    {
     "name": "stdout",
     "output_type": "stream",
     "text": [
      "187\n",
      "Phi is 160\n",
      "e is 7\n",
      "d is 23\n",
      "Public key \n",
      " {187, 7} \n",
      " Private key \n",
      " {187, 23}\n",
      "e = 7, n = 187\n",
      "pos is 35831808\n",
      "Plaintext 12 encrypted to 177 \n",
      "Decrypting cipher text 177...\n",
      "d = 23, n = 187\n",
      "pow is 574196758398874833\n",
      "Decrypted value is 62\n"
     ]
    }
   ],
   "source": [
    "q = int(input(\"Enter prime value for q: \"))\n",
    "\n",
    "while (isPrime(q) is not True):\n",
    "        q = int(input(\"Enter prime value for q: \"))\n",
    "\n",
    "p = int(input(\"Enter prime value for q: \"))\n",
    "\n",
    "while (isPrime(p) is not True):\n",
    "        p = int(input(\"Enter prime value for q: \"))\n",
    "\n",
    "public, private = keyGen(p, q)\n",
    "\n",
    "print(f'Public key \\n {public} \\nPrivate key \\n {private}')\n",
    "\n",
    "plaintext = int(input(\"Enter a message to encrypt: \"))\n",
    "\n",
    "c = Encrypt(public, plaintext)\n",
    "\n",
    "\n",
    "print(f'Plaintext {plaintext} encrypted to {c} \\nDecrypting cipher text {c}...')\n",
    "d = Decrypt(private, c)\n",
    "print(f'Decrypted value is {d}')"
   ]
  },
  {
   "cell_type": "code",
   "execution_count": 124,
   "metadata": {},
   "outputs": [
    {
     "data": {
      "text/plain": [
       "187.0"
      ]
     },
     "execution_count": 124,
     "metadata": {},
     "output_type": "execute_result"
    }
   ],
   "source": [
    "pow(177,23)\n",
    "math.fmod(187, pow(177,23))"
   ]
  },
  {
   "cell_type": "code",
   "execution_count": 123,
   "metadata": {},
   "outputs": [
    {
     "data": {
      "text/plain": [
       "12"
      ]
     },
     "execution_count": 123,
     "metadata": {},
     "output_type": "execute_result"
    }
   ],
   "source": [
    "pow(177,23) % 187"
   ]
  }
 ],
 "metadata": {
  "kernelspec": {
   "display_name": "Python 3.8.10 64-bit",
   "language": "python",
   "name": "python3"
  },
  "language_info": {
   "codemirror_mode": {
    "name": "ipython",
    "version": 3
   },
   "file_extension": ".py",
   "mimetype": "text/x-python",
   "name": "python",
   "nbconvert_exporter": "python",
   "pygments_lexer": "ipython3",
   "version": "3.8.9"
  },
  "orig_nbformat": 4,
  "vscode": {
   "interpreter": {
    "hash": "31f2aee4e71d21fbe5cf8b01ff0e069b9275f58929596ceb00d14d90e3e16cd6"
   }
  }
 },
 "nbformat": 4,
 "nbformat_minor": 2
}
