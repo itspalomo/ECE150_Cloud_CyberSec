{
 "cells": [
  {
   "cell_type": "code",
   "execution_count": 181,
   "metadata": {},
   "outputs": [],
   "source": [
    "import numpy as np"
   ]
  },
  {
   "cell_type": "markdown",
   "metadata": {},
   "source": [
    "## RSA PROCESS EXAMPLE (pg 101)\n",
    "### Generate Key\n",
    "1. Select two prime numbers, p=17 and q=11\n",
    "2. Calculat n = pq = 17x11 = 187\n",
    "3. Calculate Phi(n) = (p-1)(q-1) = 16 x 10 = 160\n",
    "4. Select _e_ such that _e_ is relatively prime to Phi(n) = 160 and less than Phi(n); we choose _e_ = 7\n",
    "5. Determine _d_ such thte _de_ mod 160 = 1 and _d_ < 160. The correct value is _d_ = 23, because 23x7 = 161 = (1x160)+1\n",
    "### Encryption \n",
    "1. C = M^e (mod n)\n",
    "\n",
    "### Decryption\n",
    "1. M = C^d (mod n)"
   ]
  },
  {
   "cell_type": "code",
   "execution_count": 182,
   "metadata": {},
   "outputs": [],
   "source": [
    "def isPrime(n):\n",
    "    if n <= 1:\n",
    "        print(\"Entry must be prime integer.\")\n",
    "        return False\n",
    "    for i in range(2, int(np.sqrt(n)) + 1):\n",
    "        if n % i == 0:\n",
    "            return False\n",
    "    return True\n"
   ]
  },
  {
   "cell_type": "code",
   "execution_count": 183,
   "metadata": {},
   "outputs": [],
   "source": [
    "def keyGen(p,q):\n",
    "    n = p * q\n",
    "    print(f'n is {n}')\n",
    "    phi_n = (p-1)*(q-1)\n",
    "    print(f'Phi is {phi_n}')\n",
    "    e = 4 # 1 < e < phi_n\n",
    "    while (e < phi_n):\n",
    "        if (np.gcd(phi_n, e) == 1):\n",
    "            break\n",
    "        else:\n",
    "            e = e +1\n",
    "    print(f'e is {e}')\n",
    "    \n",
    "    #2 is a placeholder for k which can be any value replaces commented out code\n",
    "    d = 2\n",
    "    while ( d < phi_n):\n",
    "        if ((np.mod((d * e), phi_n)) == 1): # multiplicative inverse\n",
    "            break\n",
    "        else:\n",
    "            d = d+1\n",
    "    \n",
    "    #d = ((2*phi_n) + 1)/e # https://www.youtube.com/watch?v=wXB-V_Keiu8&ab_channel=ArtoftheProblem\n",
    "\n",
    "\n",
    "\n",
    "    print(f'd is {d}')\n",
    "    ku = {e, n} # public key\n",
    "    kr = {d, n} # private key\n",
    "\n",
    "    return ku, kr\n",
    "    "
   ]
  },
  {
   "cell_type": "code",
   "execution_count": 184,
   "metadata": {},
   "outputs": [],
   "source": [
    "def Encrypt(ku, m):\n",
    "    e,n = ku\n",
    "    print(f'e = {e}, n = {n}')\n",
    "    c = pow(m, e)\n",
    "    #print(f'pow is {c}')\n",
    "    return int(np.mod(c, n))"
   ]
  },
  {
   "cell_type": "code",
   "execution_count": 185,
   "metadata": {},
   "outputs": [],
   "source": [
    "def Decrypt(kr , c):\n",
    "    d,n = kr\n",
    "    print(f'd = {d}, n = {n}, c = {c}')\n",
    "    m = pow(c,d)\n",
    "    #print(f'pow is {m}')\n",
    "    return int(np.mod(m, n))"
   ]
  },
  {
   "cell_type": "code",
   "execution_count": 186,
   "metadata": {},
   "outputs": [
    {
     "name": "stdout",
     "output_type": "stream",
     "text": [
      "RSA assignment, p and q values are over 200 (233,239)\n",
      "n is 55687\n",
      "Phi is 55216\n",
      "e is 5\n",
      "d is 44173\n",
      "Public key \n",
      " {5, 55687} \n",
      "Private key \n",
      " {44173, 55687}\n",
      "e = 5, n = 55687\n",
      "Plaintext 88 encrypted to 29239 \n",
      "Decrypting cipher text 29239...\n",
      "d = 44173, n = 55687, c = 29239\n",
      "Decrypted value is 88\n"
     ]
    }
   ],
   "source": [
    "print(f'RSA assignment, p and q values are over 200 (233,239)')\n",
    "q = int(input(\"Enter prime value for q: \"))\n",
    "\n",
    "while (isPrime(q) is not True):\n",
    "        q = int(input(\"Enter prime value for q: \"))\n",
    "\n",
    "p = int(input(\"Enter prime value for q: \"))\n",
    "\n",
    "while (isPrime(p) is not True):\n",
    "        p = int(input(\"Enter prime value for q: \"))\n",
    "\n",
    "public, private = keyGen(p, q)\n",
    "\n",
    "print(f'Public key \\n {public} \\nPrivate key \\n {private}')\n",
    "\n",
    "plaintext = int(input(\"Enter a message to encrypt: \"))\n",
    "\n",
    "c = Encrypt(public, plaintext)\n",
    "\n",
    "\n",
    "print(f'Plaintext {plaintext} encrypted to {c} \\nDecrypting cipher text {c}...')\n",
    "d = Decrypt(private, c)\n",
    "print(f'Decrypted value is {d}')"
   ]
  }
 ],
 "metadata": {
  "kernelspec": {
   "display_name": "Python 3.8.10 64-bit",
   "language": "python",
   "name": "python3"
  },
  "language_info": {
   "codemirror_mode": {
    "name": "ipython",
    "version": 3
   },
   "file_extension": ".py",
   "mimetype": "text/x-python",
   "name": "python",
   "nbconvert_exporter": "python",
   "pygments_lexer": "ipython3",
   "version": "3.8.9"
  },
  "orig_nbformat": 4,
  "vscode": {
   "interpreter": {
    "hash": "31f2aee4e71d21fbe5cf8b01ff0e069b9275f58929596ceb00d14d90e3e16cd6"
   }
  }
 },
 "nbformat": 4,
 "nbformat_minor": 2
}
